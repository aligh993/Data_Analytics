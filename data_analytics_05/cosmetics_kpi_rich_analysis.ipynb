{
 "cells": [
  {
   "cell_type": "markdown",
   "id": "eac8f68b",
   "metadata": {},
   "source": [
    "# Rich Cosmetics KPI Project - Synthetic Dataset & Professional Analysis\n",
    "\n",
    "This notebook generates a rich synthetic weekly KPI dataset for cosmetics SKUs (2022-01 to 2024-12) and performs professional analyses including rolling metrics, MoM/YoY, Pareto, cohort-like acquisition aggregates, anomaly detection, and basic forecasting. Plots are generated (matplotlib) and saved to ./ as PNGs.\n",
    "\n",
    "Files produced:\n",
    "- ./cosmetics_kpi_rich.csv\n",
    "- ./cosmetics_monthly_aggregates_rich.csv\n",
    "- ./cosmetics_annual_last_year_rich.csv\n",
    "- Several PNG plots (weekly revenue, pareto, anomalies, etc.)\n"
   ]
  },
  {
   "cell_type": "markdown",
   "id": "07a359ac",
   "metadata": {},
   "source": [
    "## Data generation and KPI computation\n",
    "(See script saved as CSVs in ./)"
   ]
  },
  {
   "cell_type": "code",
   "execution_count": 2,
   "id": "cbad3fb4",
   "metadata": {},
   "outputs": [],
   "source": [
    "# The full data generation & analysis script was executed and outputs saved to ./\n",
    "# To re-run, use the Python script provided in the repository or re-run the cells in this notebook."
   ]
  },
  {
   "cell_type": "markdown",
   "id": "bccf7633",
   "metadata": {},
   "source": [
    "## Saved outputs\n",
    "- cosmetics_kpi_rich.csv\n",
    "- cosmetics_monthly_aggregates_rich.csv\n",
    "- cosmetics_annual_last_year_rich.csv\n",
    "- plot_weekly_revenue.png\n",
    "- plot_annual_profit_by_product.png\n",
    "- plot_pareto_revenue.png\n",
    "- plot_mom_matrix.png\n",
    "- plot_emp_sat_vs_profit.png\n",
    "- plot_correlation_matrix.png\n",
    "- plot_anomalies_revenue.png\n",
    "- plot_weeks_inventory_hist.png\n",
    "- plot_forecast_*.png (if forecast available)"
   ]
  }
 ],
 "metadata": {
  "kernelspec": {
   "display_name": "nlp",
   "language": "python",
   "name": "nlp"
  },
  "language_info": {
   "codemirror_mode": {
    "name": "ipython",
    "version": 3
   },
   "file_extension": ".py",
   "mimetype": "text/x-python",
   "name": "python",
   "nbconvert_exporter": "python",
   "pygments_lexer": "ipython3",
   "version": "3.12.9"
  }
 },
 "nbformat": 4,
 "nbformat_minor": 5
}
